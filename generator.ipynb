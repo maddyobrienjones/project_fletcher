{
 "cells": [
  {
   "cell_type": "markdown",
   "metadata": {},
   "source": [
    "## Importing Data"
   ]
  },
  {
   "cell_type": "code",
   "execution_count": 29,
   "metadata": {},
   "outputs": [],
   "source": [
    "import pandas as pd\n",
    "import numpy as np\n",
    "from collections import defaultdict\n",
    "import pickle\n",
    "\n",
    "doj = pd.read_csv('topics.csv')    \n"
   ]
  },
  {
   "cell_type": "markdown",
   "metadata": {},
   "source": [
    "### Cleaning out weird unicode"
   ]
  },
  {
   "cell_type": "code",
   "execution_count": 22,
   "metadata": {},
   "outputs": [],
   "source": [
    "pr_c = [x.replace(u'\\xa0',u'') for x in pr]"
   ]
  },
  {
   "cell_type": "markdown",
   "metadata": {},
   "source": [
    "### Finding average length"
   ]
  },
  {
   "cell_type": "code",
   "execution_count": 23,
   "metadata": {},
   "outputs": [],
   "source": [
    "lengths = [len(p.split()) for p in pr_c]"
   ]
  },
  {
   "cell_type": "code",
   "execution_count": 24,
   "metadata": {},
   "outputs": [
    {
     "data": {
      "text/plain": [
       "574.8876232703922"
      ]
     },
     "execution_count": 24,
     "metadata": {},
     "output_type": "execute_result"
    }
   ],
   "source": [
    "sum(lengths)/len(lengths)"
   ]
  },
  {
   "cell_type": "markdown",
   "metadata": {},
   "source": [
    "### Making dictionary of every word, with words succeeding it"
   ]
  },
  {
   "cell_type": "code",
   "execution_count": 37,
   "metadata": {},
   "outputs": [],
   "source": [
    "topicnumbers = list(doj['topicnumber'].unique())"
   ]
  },
  {
   "cell_type": "code",
   "execution_count": 40,
   "metadata": {},
   "outputs": [],
   "source": [
    "pr = list(doj[doj['topicnumber']==9]['contents'])\n",
    "pr_c = [x.replace(u'\\xa0',u'') for x in pr]\n",
    "prdict = dict()\n",
    "for p in pr_c:\n",
    "    for i in range(len(p.split())-1):\n",
    "        if p.split()[i] not in prdict:\n",
    "            prdict[p.split()[i]] = [p.split()[i+1]]\n",
    "        else:\n",
    "            prdict[p.split()[i]].append(p.split()[i+1])"
   ]
  },
  {
   "cell_type": "markdown",
   "metadata": {},
   "source": [
    "## Using Markov chain logic to create a random string of words that are connected by history in other press releases about immigration"
   ]
  },
  {
   "cell_type": "code",
   "execution_count": 41,
   "metadata": {},
   "outputs": [],
   "source": [
    "import random\n",
    "def quotegen():\n",
    "    generated = []\n",
    "    generated.append(random.choice(list(prdict.keys())))\n",
    "    while len(generated) < 500:\n",
    "        key = generated[-1]\n",
    "        generated.append(random.choice(prdict[key]))\n",
    "    quote = generated[0].capitalize() + ' ' + ' '.join(generated[1:]) + '.'\n",
    "    return quote"
   ]
  },
  {
   "cell_type": "code",
   "execution_count": 43,
   "metadata": {},
   "outputs": [],
   "source": [
    "with open('imdict.pkl','wb') as f:\n",
    "    pickle.dump(prdict,f)"
   ]
  },
  {
   "cell_type": "code",
   "execution_count": 56,
   "metadata": {},
   "outputs": [
    {
     "data": {
      "text/plain": [
       "'Supplier, Peng Chia $38,965.00 for the seizure of Natural Resources Division and Flora (CITES), a totally enclosed manner, and Wildlife Service (FWS) as a fine of the seriousness of wildlife species, the result in the ocean. This case was investigated by Hurricane Sandy. The whistleblower’s note that its obligations under the world depend on Environmental Protection Agency for its wastewater that requires the Sulphur property for projects to combat illegal international partners are particularly troubling because of the illegal wildlife trafficking, seafood in November 2014, a period of bobcats, the period of fishery resources to conceal the Act to the species of this oil into the “Ebay” auction houses throughout the scientific order to and outfitting and Money laundering conspiracy, obstruction of the Capitolain that this week, President and gas reservoir located downstream from areas of Justice Department of a crocodilian species like Program (ECP) which included a treaty regulating commercial fishing vessel Lady Samaira, boarded the ship’s bilge waste. An investigation unveiled a sophisticated methods to forfeit all removal costs, economic times before. As of oil-contaminated bilge waste. Neither Babenko is the United States. Customs and Acting Chief Ed Grace. “Wildlife trafficking ivory carvings, good health, and by the U.S. electronics components (electron tubes) and who rely on March 2016. Simon admitted the laws are Alabama; and county of New Jersey and restitution from April 29, 2013.As alleged that do not have observed sawing off the message that he actually have been impacted 100 sludge directly into alarm was also admitted that, using falsified oil and to circumvent our oceans must be mailed the Islamic Republic of the engineering crewmembers that the rules for their distinctive ivory was not residents millions of oily wastes were illegally selling these ships sailing in Charge Clark E. Lynch, U.S. Attorney General David Kris, Assistant U.S. Coast Guard that the world’s oceans as part of guilty today in restitution. Joseph, captain aboard the identification of, or U.S. laws, the Coast Guard Investigative Service operates the vessel owner, had obtained products.” “We will not a herd of fluke, then falsified fishing operations and Papadakis face possible through unlawful trafficking takes many as \"defense articles\" on the collision caused by the country with oil. The Justice Department’s Environment and other fleet of his alleged that the defendants face charges previously pleaded guilty today in violation of Law Enforcement, and restitution to soldiers to federal jury in federal prosecutors have been illegally selling to benefit coral is how the restoration projects, such as part of liquid in the M/T Nordic Passat since at least two years in October 2012, Felix Kha; and the damage assessment of Sulphur, Louisiana, Assistant Attorney Michael D. Bennett sentenced by Ilios directed restoration of blubber to violating the conspiracy that re-sale price, Logan faces a herd of the former Chief Engineer Youn had no such engineering crew to deter and Atmospheric Administration (NOAA) SAFIS computer simulations of the Department of the form of Justice. A sentencing date as well as sacred.'"
      ]
     },
     "execution_count": 56,
     "metadata": {},
     "output_type": "execute_result"
    }
   ],
   "source": [
    "quotegen()"
   ]
  },
  {
   "cell_type": "markdown",
   "metadata": {},
   "source": [
    "### Creating function to be used in Flask app"
   ]
  },
  {
   "cell_type": "code",
   "execution_count": null,
   "metadata": {},
   "outputs": [],
   "source": [
    "import random\n",
    "def quotegen(prdict):\n",
    "    generated = []\n",
    "    generated.append(random.choice(list(prdict.keys())))\n",
    "    while len(generated) < 500:\n",
    "        key = generated[-1]\n",
    "        generated.append(random.choice(prdict[key]))\n",
    "    quote = generated[0].capitalize() + ' ' + ' '.join(generated[1:]) + '.'\n",
    "    return quote"
   ]
  }
 ],
 "metadata": {
  "kernelspec": {
   "display_name": "Python 3",
   "language": "python",
   "name": "python3"
  },
  "language_info": {
   "codemirror_mode": {
    "name": "ipython",
    "version": 3
   },
   "file_extension": ".py",
   "mimetype": "text/x-python",
   "name": "python",
   "nbconvert_exporter": "python",
   "pygments_lexer": "ipython3",
   "version": "3.6.6"
  }
 },
 "nbformat": 4,
 "nbformat_minor": 2
}
