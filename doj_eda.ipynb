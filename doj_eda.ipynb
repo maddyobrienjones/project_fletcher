{
 "cells": [
  {
   "cell_type": "markdown",
   "metadata": {},
   "source": [
    "### Importing DOJ data and saving to Pickle file for ease of use later"
   ]
  },
  {
   "cell_type": "code",
   "execution_count": 51,
   "metadata": {},
   "outputs": [],
   "source": [
    "import pandas as pd"
   ]
  },
  {
   "cell_type": "code",
   "execution_count": 52,
   "metadata": {},
   "outputs": [],
   "source": [
    "doj = pd.read_json('combined.json', lines=True)"
   ]
  },
  {
   "cell_type": "code",
   "execution_count": 53,
   "metadata": {},
   "outputs": [
    {
     "data": {
      "text/html": [
       "<div>\n",
       "<style scoped>\n",
       "    .dataframe tbody tr th:only-of-type {\n",
       "        vertical-align: middle;\n",
       "    }\n",
       "\n",
       "    .dataframe tbody tr th {\n",
       "        vertical-align: top;\n",
       "    }\n",
       "\n",
       "    .dataframe thead th {\n",
       "        text-align: right;\n",
       "    }\n",
       "</style>\n",
       "<table border=\"1\" class=\"dataframe\">\n",
       "  <thead>\n",
       "    <tr style=\"text-align: right;\">\n",
       "      <th></th>\n",
       "      <th>components</th>\n",
       "      <th>contents</th>\n",
       "      <th>date</th>\n",
       "      <th>id</th>\n",
       "      <th>title</th>\n",
       "      <th>topics</th>\n",
       "    </tr>\n",
       "  </thead>\n",
       "  <tbody>\n",
       "    <tr>\n",
       "      <th>0</th>\n",
       "      <td>[National Security Division (NSD)]</td>\n",
       "      <td>PORTLAND, Oregon. – Mohamed Osman Mohamud, 23,...</td>\n",
       "      <td>2014-10-01 04:00:00</td>\n",
       "      <td>None</td>\n",
       "      <td>Convicted Bomb Plotter Sentenced to 30 Years</td>\n",
       "      <td>[]</td>\n",
       "    </tr>\n",
       "    <tr>\n",
       "      <th>1</th>\n",
       "      <td>[Environment and Natural Resources Division]</td>\n",
       "      <td>WASHINGTON – North Carolina’s Waccamaw River...</td>\n",
       "      <td>2012-07-25 04:00:00</td>\n",
       "      <td>12-919</td>\n",
       "      <td>$1 Million in Restitution Payments Announced t...</td>\n",
       "      <td>[]</td>\n",
       "    </tr>\n",
       "    <tr>\n",
       "      <th>2</th>\n",
       "      <td>[Environment and Natural Resources Division]</td>\n",
       "      <td>BOSTON– A $1-million settlement has been...</td>\n",
       "      <td>2011-08-03 04:00:00</td>\n",
       "      <td>11-1002</td>\n",
       "      <td>$1 Million Settlement Reached for Natural Reso...</td>\n",
       "      <td>[]</td>\n",
       "    </tr>\n",
       "    <tr>\n",
       "      <th>3</th>\n",
       "      <td>[Environment and Natural Resources Division]</td>\n",
       "      <td>WASHINGTON—A federal grand jury in Las Vegas...</td>\n",
       "      <td>2010-01-08 05:00:00</td>\n",
       "      <td>10-015</td>\n",
       "      <td>10 Las Vegas Men Indicted \\r\\nfor Falsifying V...</td>\n",
       "      <td>[]</td>\n",
       "    </tr>\n",
       "    <tr>\n",
       "      <th>4</th>\n",
       "      <td>[Environment and Natural Resources Division]</td>\n",
       "      <td>The U.S. Department of Justice, the U.S. Envir...</td>\n",
       "      <td>2018-07-09 04:00:00</td>\n",
       "      <td>18-898</td>\n",
       "      <td>$100 Million Settlement Will Speed Cleanup Wor...</td>\n",
       "      <td>[Environment]</td>\n",
       "    </tr>\n",
       "  </tbody>\n",
       "</table>\n",
       "</div>"
      ],
      "text/plain": [
       "                                     components  \\\n",
       "0            [National Security Division (NSD)]   \n",
       "1  [Environment and Natural Resources Division]   \n",
       "2  [Environment and Natural Resources Division]   \n",
       "3  [Environment and Natural Resources Division]   \n",
       "4  [Environment and Natural Resources Division]   \n",
       "\n",
       "                                            contents                date  \\\n",
       "0  PORTLAND, Oregon. – Mohamed Osman Mohamud, 23,... 2014-10-01 04:00:00   \n",
       "1    WASHINGTON – North Carolina’s Waccamaw River... 2012-07-25 04:00:00   \n",
       "2        BOSTON– A $1-million settlement has been... 2011-08-03 04:00:00   \n",
       "3    WASHINGTON—A federal grand jury in Las Vegas... 2010-01-08 05:00:00   \n",
       "4  The U.S. Department of Justice, the U.S. Envir... 2018-07-09 04:00:00   \n",
       "\n",
       "        id                                              title         topics  \n",
       "0     None       Convicted Bomb Plotter Sentenced to 30 Years             []  \n",
       "1  12-919   $1 Million in Restitution Payments Announced t...             []  \n",
       "2  11-1002  $1 Million Settlement Reached for Natural Reso...             []  \n",
       "3   10-015  10 Las Vegas Men Indicted \\r\\nfor Falsifying V...             []  \n",
       "4   18-898  $100 Million Settlement Will Speed Cleanup Wor...  [Environment]  "
      ]
     },
     "execution_count": 53,
     "metadata": {},
     "output_type": "execute_result"
    }
   ],
   "source": [
    "doj.head()"
   ]
  },
  {
   "cell_type": "code",
   "execution_count": 54,
   "metadata": {},
   "outputs": [],
   "source": [
    "import pickle"
   ]
  },
  {
   "cell_type": "code",
   "execution_count": 55,
   "metadata": {},
   "outputs": [],
   "source": [
    "with open(\"doj.pkl\", \"wb\") as f:\n",
    "    pickle.dump(doj, f)"
   ]
  },
  {
   "cell_type": "markdown",
   "metadata": {},
   "source": [
    "### Basic information"
   ]
  },
  {
   "cell_type": "code",
   "execution_count": 56,
   "metadata": {},
   "outputs": [
    {
     "name": "stdout",
     "output_type": "stream",
     "text": [
      "<class 'pandas.core.frame.DataFrame'>\n",
      "RangeIndex: 13087 entries, 0 to 13086\n",
      "Data columns (total 6 columns):\n",
      "components    13087 non-null object\n",
      "contents      13087 non-null object\n",
      "date          13087 non-null datetime64[ns]\n",
      "id            12810 non-null object\n",
      "title         13087 non-null object\n",
      "topics        13087 non-null object\n",
      "dtypes: datetime64[ns](1), object(5)\n",
      "memory usage: 613.5+ KB\n"
     ]
    }
   ],
   "source": [
    "doj.info()"
   ]
  },
  {
   "cell_type": "markdown",
   "metadata": {},
   "source": [
    "### Checking topic values"
   ]
  },
  {
   "cell_type": "code",
   "execution_count": 57,
   "metadata": {},
   "outputs": [
    {
     "data": {
      "text/plain": [
       "[]                                                                                   8399\n",
       "[Tax]                                                                                 706\n",
       "[Consumer Protection]                                                                 335\n",
       "[Civil Rights]                                                                        305\n",
       "[Antitrust]                                                                           292\n",
       "[Hate Crimes]                                                                         246\n",
       "[Environment]                                                                         175\n",
       "[Health Care Fraud]                                                                   174\n",
       "[Project Safe Childhood]                                                              166\n",
       "[Public Corruption]                                                                   144\n",
       "[Counterterrorism]                                                                    140\n",
       "[StopFraud]                                                                           127\n",
       "[False Claims Act]                                                                    119\n",
       "[Counterterrorism, National Security]                                                 114\n",
       "[Identity Theft, Tax]                                                                 110\n",
       "[False Claims Act, Health Care Fraud]                                                  83\n",
       "[Violent Crime]                                                                        82\n",
       "[Indian Country Law and Justice]                                                       67\n",
       "[Cyber Crime]                                                                          65\n",
       "[Counterintelligence and Export Control]                                               59\n",
       "[Immigration]                                                                          58\n",
       "[Financial Fraud]                                                                      53\n",
       "[Intellectual Property]                                                                48\n",
       "[National Security]                                                                    46\n",
       "[Human Trafficking]                                                                    41\n",
       "[Drug Trafficking]                                                                     40\n",
       "[Civil Rights, Hate Crimes]                                                            40\n",
       "[Wildlife]                                                                             36\n",
       "[Servicemembers Initiative]                                                            35\n",
       "[Grants]                                                                               32\n",
       "                                                                                     ... \n",
       "[Health Care Fraud, Identity Theft]                                                     1\n",
       "[Antitrust, Intellectual Property]                                                      1\n",
       "[Opioids, Prescription Drugs, Drug Trafficking]                                         1\n",
       "[Consumer Protection, Elder Justice, Financial Fraud]                                   1\n",
       "[Tax, Health Care Fraud]                                                                1\n",
       "[Civil Rights, Firearms Offenses]                                                       1\n",
       "[Immigration, Labor & Employment]                                                       1\n",
       "[Antitrust, Financial Fraud, Securities, Commodities, & Investment Fraud]               1\n",
       "[Grants, Project Safe Neighborhoods]                                                    1\n",
       "[Community Outreach, Hate Crimes]                                                       1\n",
       "[False Claims Act, Financial Fraud, Health Care Fraud, Mortgage Fraud, StopFraud]       1\n",
       "[Civil Rights, Labor & Employment, Servicemembers Initiative]                           1\n",
       "[False Claims Act, Financial Fraud, Mortgage Fraud, StopFraud]                          1\n",
       "[Financial Fraud, Health Care Fraud, Mortgage Fraud, StopFraud]                         1\n",
       "[Access to Justice, Indian Country Law and Justice]                                     1\n",
       "[Grants, Servicemembers Initiative]                                                     1\n",
       "[Financial Fraud, Mortgage Fraud, StopFraud]                                            1\n",
       "[Environment, Labor & Employment]                                                       1\n",
       "[Consumer Protection, Elder Justice, StopFraud]                                         1\n",
       "[Access to Justice, Elder Justice, Grants]                                              1\n",
       "[Opioids, Violent Crime, Drug Trafficking, Firearms Offenses]                           1\n",
       "[Civil Rights, Drug Trafficking, Human Trafficking]                                     1\n",
       "[Hate Crimes, Human Trafficking, Violent Crime]                                         1\n",
       "[Antitrust, Financial Fraud]                                                            1\n",
       "[Opioids, Health Care Fraud, False Claims Act]                                          1\n",
       "[Public Corruption, Health Care Fraud, Financial Fraud]                                 1\n",
       "[Antitrust, StopFraud, Tax]                                                             1\n",
       "[Drug Trafficking, Public Corruption]                                                   1\n",
       "[Asset Forfeiture, Counterintelligence and Export Control, National Security]           1\n",
       "[Civil Rights, Counterterrorism, National Security]                                     1\n",
       "Name: topics, Length: 253, dtype: int64"
      ]
     },
     "execution_count": 57,
     "metadata": {},
     "output_type": "execute_result"
    }
   ],
   "source": [
    "doj['topics'].value_counts()"
   ]
  },
  {
   "cell_type": "markdown",
   "metadata": {},
   "source": [
    "Most cells seem to be missing topic values, and there seem to be a wide range of different topics for the press releases that are categorized. This makes it a more interesting unsupervised learning problem because it may be possible to build topic models to create a cleaner set of categories that can be used to describe all of the documents."
   ]
  },
  {
   "cell_type": "markdown",
   "metadata": {},
   "source": [
    "### Checking article lengths and dealing with empty articles"
   ]
  },
  {
   "cell_type": "code",
   "execution_count": 58,
   "metadata": {},
   "outputs": [],
   "source": [
    "lengths = [len(x) for x in doj['contents']]"
   ]
  },
  {
   "cell_type": "code",
   "execution_count": 59,
   "metadata": {},
   "outputs": [
    {
     "data": {
      "text/plain": [
       "178106"
      ]
     },
     "execution_count": 59,
     "metadata": {},
     "output_type": "execute_result"
    }
   ],
   "source": [
    "max(lengths)"
   ]
  },
  {
   "cell_type": "code",
   "execution_count": 60,
   "metadata": {},
   "outputs": [
    {
     "data": {
      "text/plain": [
       "0"
      ]
     },
     "execution_count": 60,
     "metadata": {},
     "output_type": "execute_result"
    }
   ],
   "source": [
    "min(lengths)"
   ]
  },
  {
   "cell_type": "code",
   "execution_count": 61,
   "metadata": {},
   "outputs": [],
   "source": [
    "wordcounts = [len(x.split()) for x in doj['contents']]"
   ]
  },
  {
   "cell_type": "code",
   "execution_count": 62,
   "metadata": {},
   "outputs": [
    {
     "data": {
      "text/plain": [
       "25254"
      ]
     },
     "execution_count": 62,
     "metadata": {},
     "output_type": "execute_result"
    }
   ],
   "source": [
    "max(wordcounts)"
   ]
  },
  {
   "cell_type": "code",
   "execution_count": 63,
   "metadata": {},
   "outputs": [
    {
     "data": {
      "text/plain": [
       "0"
      ]
     },
     "execution_count": 63,
     "metadata": {},
     "output_type": "execute_result"
    }
   ],
   "source": [
    "min(wordcounts)"
   ]
  },
  {
   "cell_type": "code",
   "execution_count": 64,
   "metadata": {},
   "outputs": [
    {
     "name": "stdout",
     "output_type": "stream",
     "text": [
      "components                                  [Criminal Division]\n",
      "contents                                                       \n",
      "date                                        2013-02-12 05:00:00\n",
      "id                                                       13-185\n",
      "title         Florida Man Pleads Guilty to Federal Election ...\n",
      "topics                                                       []\n",
      "Name: 3403, dtype: object\n",
      "components                                  [Criminal Division]\n",
      "contents                                                       \n",
      "date                                        2013-02-20 05:00:00\n",
      "id                                                       13-217\n",
      "title         North Carolina Commodities Firm Owner Sentence...\n",
      "topics                                                       []\n",
      "Name: 9304, dtype: object\n"
     ]
    }
   ],
   "source": [
    "for i in doj.index:\n",
    "    if len(doj.at[i,'contents']) == 0:\n",
    "        print(doj.loc[i])"
   ]
  },
  {
   "cell_type": "markdown",
   "metadata": {},
   "source": [
    "Not a huge problem because there are only 2. We will deal with this by simply assigning the title as the contents of the article."
   ]
  },
  {
   "cell_type": "code",
   "execution_count": 65,
   "metadata": {},
   "outputs": [],
   "source": [
    "for i in doj.index:\n",
    "    if len(doj.at[i,'contents']) == 0:\n",
    "        doj.at[i,'contents'] = doj.at[i,'title']"
   ]
  },
  {
   "cell_type": "code",
   "execution_count": 66,
   "metadata": {},
   "outputs": [
    {
     "data": {
      "text/plain": [
       "components                                  [Criminal Division]\n",
       "contents      Florida Man Pleads Guilty to Federal Election ...\n",
       "date                                        2013-02-12 05:00:00\n",
       "id                                                       13-185\n",
       "title         Florida Man Pleads Guilty to Federal Election ...\n",
       "topics                                                       []\n",
       "Name: 3403, dtype: object"
      ]
     },
     "execution_count": 66,
     "metadata": {},
     "output_type": "execute_result"
    }
   ],
   "source": [
    "doj.loc[3403]"
   ]
  },
  {
   "cell_type": "markdown",
   "metadata": {},
   "source": [
    "### Checking that all have titles"
   ]
  },
  {
   "cell_type": "code",
   "execution_count": 67,
   "metadata": {},
   "outputs": [],
   "source": [
    "lengths = [len(x) for x in doj['title']]"
   ]
  },
  {
   "cell_type": "code",
   "execution_count": 68,
   "metadata": {},
   "outputs": [
    {
     "data": {
      "text/plain": [
       "20"
      ]
     },
     "execution_count": 68,
     "metadata": {},
     "output_type": "execute_result"
    }
   ],
   "source": [
    "min(lengths)"
   ]
  },
  {
   "cell_type": "markdown",
   "metadata": {},
   "source": [
    "Good!"
   ]
  },
  {
   "cell_type": "markdown",
   "metadata": {},
   "source": [
    "### Investigating \"Components\" column"
   ]
  },
  {
   "cell_type": "code",
   "execution_count": 69,
   "metadata": {},
   "outputs": [
    {
     "data": {
      "text/plain": [
       "[Criminal Division]                                                                                                                   2680\n",
       "[Tax Division]                                                                                                                        1862\n",
       "[Civil Division]                                                                                                                       926\n",
       "[Civil Rights Division]                                                                                                                862\n",
       "[Office of the Attorney General]                                                                                                       822\n",
       "[Antitrust Division]                                                                                                                   798\n",
       "[Environment and Natural Resources Division]                                                                                           798\n",
       "[Civil Rights Division, Civil Rights - Criminal Section]                                                                               554\n",
       "[National Security Division (NSD)]                                                                                                     330\n",
       "[Civil Rights Division, Civil Rights - Disability Rights Section]                                                                      184\n",
       "[Civil Rights Division, Civil Rights - Housing and Civil Enforcement Section]                                                          128\n",
       "[Office of Public Affairs]                                                                                                             118\n",
       "[Office of the Deputy Attorney General]                                                                                                 88\n",
       "[Civil Rights Division, Civil Rights - Employment Litigation Section]                                                                   68\n",
       "[Civil Rights Division, Civil Rights - Immigrant and Employee Rights Section]                                                           64\n",
       "[Civil Rights Division, Civil Rights - Educational Opportunities Section]                                                               57\n",
       "[Civil Rights Division, Civil Rights - Criminal Section, Civil Rights - Housing and Civil Enforcement Section]                          44\n",
       "[National Security Division (NSD), USAO - Virginia, Eastern]                                                                            41\n",
       "[Criminal Division, USAO - Virginia, Eastern]                                                                                           38\n",
       "[National Security Division (NSD), USAO - New York, Eastern]                                                                            37\n",
       "[Criminal Division, USAO - Texas, Southern]                                                                                             35\n",
       "[National Security Division (NSD), USAO - New York, Southern]                                                                           34\n",
       "[Office of the Associate Attorney General]                                                                                              31\n",
       "[Criminal Division, Criminal - Criminal Fraud Section]                                                                                  31\n",
       "[Criminal Division, Criminal - Criminal Fraud Section, USAO - Florida, Southern]                                                        29\n",
       "[Criminal Division, USAO - Florida, Southern]                                                                                           29\n",
       "[Office of Justice Programs (OJP)]                                                                                                      26\n",
       "[Criminal Division, USAO - Michigan, Eastern]                                                                                           25\n",
       "[Office on Violence Against Women]                                                                                                      24\n",
       "[Criminal Division, USAO - Maryland]                                                                                                    23\n",
       "                                                                                                                                      ... \n",
       "[USAO - Massachusetts]                                                                                                                   1\n",
       "[Criminal Division, Criminal - Criminal Fraud Section, USAO - Illinois, Northern]                                                        1\n",
       "[Criminal Division, Federal Bureau of Investigation (FBI), USAO - Virginia, Eastern]                                                     1\n",
       "[Civil Division, Criminal Division, Criminal - Criminal Fraud Section, USAO - Georgia, Middle, USAO - Georgia, Southern]                 1\n",
       "[Criminal Division, USAO - Pennsylvania, Western]                                                                                        1\n",
       "[Civil Rights Division, Civil Rights - Voting Section, USAO - Alabama, Middle, USAO - Alabama, Northern, USAO - Alabama, Southern]       1\n",
       "[Civil Rights Division, Civil Rights - Housing and Civil Enforcement Section, USAO - Louisiana, Western]                                 1\n",
       "[Criminal Division, Criminal - Child Exploitation and Obscenity Section, USAO - South Dakota]                                            1\n",
       "[Environment and Natural Resources Division, USAO - Hawaii]                                                                              1\n",
       "[National Security Division (NSD), USAO - Hawaii]                                                                                        1\n",
       "[Civil Division, USAO - District of Columbia, USAO - South Carolina]                                                                     1\n",
       "[Civil Rights - Criminal Section, Civil Rights - Housing and Civil Enforcement Section, Office of the Attorney General]                  1\n",
       "[Civil Division, Environment and Natural Resources Division, Office of the Attorney General]                                             1\n",
       "[Civil Rights Division, USAO - Tennessee, Middle]                                                                                        1\n",
       "[U.S. Attorneys (USAO), USAO - Utah]                                                                                                     1\n",
       "[Civil Rights Division, USAO - California, Eastern]                                                                                      1\n",
       "[Criminal Division, Criminal - Child Exploitation and Obscenity Section, USAO - Montana]                                                 1\n",
       "[Tax Division, USAO - California, Eastern]                                                                                               1\n",
       "[National Security Division (NSD), USAO - Indiana, Northern]                                                                             1\n",
       "[Environment and Natural Resources Division, USAO - New York, Southern]                                                                  1\n",
       "[Office of the Associate Attorney General, Office of the Deputy Attorney General]                                                        1\n",
       "[National Security Division (NSD), USAO - Indiana, Southern]                                                                             1\n",
       "[Office of the Attorney General, USAO - Arizona]                                                                                         1\n",
       "[Federal Bureau of Investigation (FBI)]                                                                                                  1\n",
       "[Criminal Division, USAO - Michigan, Western]                                                                                            1\n",
       "[Office of the Attorney General, USAO - Ohio, Northern]                                                                                  1\n",
       "[Civil Division, USAO - Texas, Western]                                                                                                  1\n",
       "[Federal Bureau of Prisons (BOP)]                                                                                                        1\n",
       "[Office of the Attorney General, USAO - Alabama, Northern]                                                                               1\n",
       "[Civil Rights Division, Civil Rights - Criminal Section, Office of the Attorney General, USAO - New York, Eastern]                       1\n",
       "Name: components, Length: 810, dtype: int64"
      ]
     },
     "execution_count": 69,
     "metadata": {},
     "output_type": "execute_result"
    }
   ],
   "source": [
    "doj['components'].value_counts()"
   ]
  },
  {
   "cell_type": "markdown",
   "metadata": {},
   "source": [
    "There are a lot of different divisions to the DOJ. This may be a better way to check whether our clusters seem to make sense at the end than the topics column, which has a lot of null values."
   ]
  },
  {
   "cell_type": "markdown",
   "metadata": {},
   "source": [
    "### Checking time range"
   ]
  },
  {
   "cell_type": "code",
   "execution_count": 70,
   "metadata": {},
   "outputs": [
    {
     "data": {
      "text/plain": [
       "Timestamp('2009-01-05 05:00:00')"
      ]
     },
     "execution_count": 70,
     "metadata": {},
     "output_type": "execute_result"
    }
   ],
   "source": [
    "doj['date'].min()"
   ]
  },
  {
   "cell_type": "code",
   "execution_count": 71,
   "metadata": {},
   "outputs": [
    {
     "data": {
      "text/plain": [
       "Timestamp('2018-07-27 04:00:00')"
      ]
     },
     "execution_count": 71,
     "metadata": {},
     "output_type": "execute_result"
    }
   ],
   "source": [
    "doj['date'].max()"
   ]
  },
  {
   "cell_type": "code",
   "execution_count": 72,
   "metadata": {},
   "outputs": [
    {
     "data": {
      "text/plain": [
       "0"
      ]
     },
     "execution_count": 72,
     "metadata": {},
     "output_type": "execute_result"
    }
   ],
   "source": [
    "doj['date'].isna().sum()"
   ]
  },
  {
   "cell_type": "markdown",
   "metadata": {},
   "source": [
    "Goes from 1/5/09 to 7/27/18 and each press release has a date. Yay!"
   ]
  },
  {
   "cell_type": "markdown",
   "metadata": {},
   "source": [
    "### Investigating 'ID' Column"
   ]
  },
  {
   "cell_type": "code",
   "execution_count": 73,
   "metadata": {},
   "outputs": [
    {
     "data": {
      "text/plain": [
       "13-526      3\n",
       "11-750      2\n",
       "11-780      2\n",
       "11-065      2\n",
       "13-763      2\n",
       "15-142      2\n",
       "12-409      2\n",
       "12-1778     2\n",
       "17-344      2\n",
       "14-486      2\n",
       "15-512      2\n",
       "11-116      2\n",
       "13-634      2\n",
       "15-321      2\n",
       "11-472      2\n",
       "17-047      2\n",
       "12-986      2\n",
       "14-1171     2\n",
       "14-1125     2\n",
       "17-1453     2\n",
       "11-278      2\n",
       "15-864      2\n",
       "15-947      2\n",
       "15-135      2\n",
       "10-1220     2\n",
       "15-481      2\n",
       "17-378      2\n",
       "14-418      2\n",
       "15-457      2\n",
       "17-812      2\n",
       "           ..\n",
       "14-1412     1\n",
       "17-798      1\n",
       "14-1237     1\n",
       "15-881      1\n",
       "10-934      1\n",
       "12-499      1\n",
       "14-539      1\n",
       "11-867      1\n",
       "12-1051     1\n",
       "17-867      1\n",
       "16-1303     1\n",
       "18 - 393    1\n",
       "10-769      1\n",
       "15-1404     1\n",
       "13-389      1\n",
       "14-1224     1\n",
       "12-130      1\n",
       "15-1200     1\n",
       "09-1316     1\n",
       "11-887      1\n",
       "17-710      1\n",
       "10-715      1\n",
       "14-1307     1\n",
       "18-204      1\n",
       "11-296      1\n",
       "14-664      1\n",
       "16-381      1\n",
       "12-415      1\n",
       "12-105      1\n",
       "13-1283     1\n",
       "Name: id, Length: 12672, dtype: int64"
      ]
     },
     "execution_count": 73,
     "metadata": {},
     "output_type": "execute_result"
    }
   ],
   "source": [
    "doj['id'].value_counts()"
   ]
  },
  {
   "cell_type": "markdown",
   "metadata": {},
   "source": [
    "It looks like the ID column just shows which year the press release is from, and potentially the number press release it was that year. Not every article has an ID, but each has a timestamp, and we can just use that and the index to identify the articles. "
   ]
  },
  {
   "cell_type": "markdown",
   "metadata": {},
   "source": [
    "### Getting rid of things unimportant to the analysis"
   ]
  },
  {
   "cell_type": "code",
   "execution_count": 74,
   "metadata": {},
   "outputs": [],
   "source": [
    "doj.drop(columns='id',inplace=True)"
   ]
  },
  {
   "cell_type": "markdown",
   "metadata": {},
   "source": [
    "Because the topics column is largely null, and the components column gives us more consistent information about topics, we'll drop the topics column for now too."
   ]
  },
  {
   "cell_type": "code",
   "execution_count": 75,
   "metadata": {},
   "outputs": [],
   "source": [
    "doj.drop(columns='topics',inplace=True)"
   ]
  },
  {
   "cell_type": "code",
   "execution_count": 78,
   "metadata": {},
   "outputs": [
    {
     "name": "stdout",
     "output_type": "stream",
     "text": [
      "<class 'pandas.core.frame.DataFrame'>\n",
      "RangeIndex: 13087 entries, 0 to 13086\n",
      "Data columns (total 4 columns):\n",
      "components    13087 non-null object\n",
      "contents      13087 non-null object\n",
      "date          13087 non-null datetime64[ns]\n",
      "title         13087 non-null object\n",
      "dtypes: datetime64[ns](1), object(3)\n",
      "memory usage: 409.0+ KB\n"
     ]
    }
   ],
   "source": [
    "doj.info()"
   ]
  },
  {
   "cell_type": "markdown",
   "metadata": {},
   "source": [
    "No need to have articles with the same contents."
   ]
  },
  {
   "cell_type": "code",
   "execution_count": 81,
   "metadata": {},
   "outputs": [],
   "source": [
    "doj.drop_duplicates(subset='contents',inplace=True)"
   ]
  },
  {
   "cell_type": "code",
   "execution_count": 82,
   "metadata": {},
   "outputs": [
    {
     "name": "stdout",
     "output_type": "stream",
     "text": [
      "<class 'pandas.core.frame.DataFrame'>\n",
      "Int64Index: 13081 entries, 0 to 13086\n",
      "Data columns (total 4 columns):\n",
      "components    13081 non-null object\n",
      "contents      13081 non-null object\n",
      "date          13081 non-null datetime64[ns]\n",
      "title         13081 non-null object\n",
      "dtypes: datetime64[ns](1), object(3)\n",
      "memory usage: 511.0+ KB\n"
     ]
    }
   ],
   "source": [
    "doj.info()"
   ]
  },
  {
   "cell_type": "markdown",
   "metadata": {},
   "source": [
    "Looks like there were only a couple. Phew."
   ]
  },
  {
   "cell_type": "code",
   "execution_count": 84,
   "metadata": {},
   "outputs": [
    {
     "data": {
      "text/plain": [
       "Northern California Real Estate Investor Agrees to Plead Guilty to Bid Rigging at Public Foreclosure Auctions                                8\n",
       "Justice Department to Monitor Elections in Texas                                                                                             7\n",
       "President Obama Grants Commutations                                                                                                          6\n",
       "Miami-Area Resident Pleads Guilty to Participating in $200 Million Medicare Fraud Scheme                                                     5\n",
       "Deputy Attorney General Sally Q. Yates Statement on the President’s Recent Clemency Decisions                                                5\n",
       "Justice Department to Monitor Elections in Mississippi                                                                                       4\n",
       "President Obama Grants Commutations and Pardons                                                                                              4\n",
       "New York Tax Return Preparer Pleads Guilty to Preparing False Tax Returns                                                                    4\n",
       "State Department Employee Sentenced\\r\\nfor Illegally Accessing Confidential Passport Files                                                   3\n",
       "Federal Court Shuts Down Florida Tax Return Preparer                                                                                         3\n",
       "Justice Department Seeks to Shut Down Florida Tax Preparer                                                                                   3\n",
       "New York Man Arrested for Attempting to Provide Material Support to ISIL                                                                     3\n",
       "Northern California Real Estate Investor Agrees to Plead Guilty to Bid Rigging and Fraud at Public Foreclosure Auctions                      3\n",
       "Justice Department Announces Two Banks Reach Resolutions under Swiss Bank Program                                                            3\n",
       "Justice Department Sues to Stop Georgia Tax Return Preparer                                                                                  3\n",
       "Attorney General Holder Recognizes Department Employees and Others for Their Service at Annual Awards Ceremony                               3\n",
       "President Barack Obama Grants Pardons                                                                                                        3\n",
       "Fraudulent Tax Return Preparer Sentenced to Prison                                                                                           3\n",
       "Promoters of Sham Tax Elimination Scheme Sentenced for Tax Fraud in Florida                                                                  3\n",
       "Virginia Man Pleads Guilty to Child Pornography Charges                                                                                      3\n",
       "Aryan Brotherhood of Texas Gang Member Pleads Guilty to Federal Racketeering Charges                                                         3\n",
       "Federal Court Prohibits Florida Tax Preparer from Preparing Tax Returns for Others                                                           3\n",
       "Two Northern California Real Estate Investors Agree to Plead Guilty to Bid Rigging at Public Foreclosure Auctions                            3\n",
       "Home Health Agency Owner Pleads Guilty in Connection with Detroit Fraud Scheme                                                               3\n",
       "Miami Contractor Pleads Guilty to Employment Tax Fraud                                                                                       3\n",
       "Former State Department Employee Sentenced\\r\\nfor Illegally Accessing Confidential Passport Files                                            3\n",
       "Justice Department Warns Employers Not to Discriminate Against Salvadoran Workers with Temporary Protected Status in Newly-Released Video    2\n",
       "Justice Department Reaches Agreement to Protect Rights of Military and Overseas Voters in New Mexico                                         2\n",
       "Alabama Woman Pleads Guilty in Stolen Identity Refund Fraud Scheme                                                                           2\n",
       "Court Approves Comprehensive Assignment Plan in Longstanding Tennessee Desegregation Case                                                    2\n",
       "                                                                                                                                            ..\n",
       "Occidental Oil Companies to Pay $2.05 Million to Resolve Allegations of Royalty Underpayments from Federal Land                              1\n",
       "Justice Department Reaches Settlement Agreement in Longstanding Alabama Desegregation Case                                                   1\n",
       "Justice Department Sues to Permanently Enjoin Florida Tax Return Preparer                                                                    1\n",
       "Former U.S. Consulate Guard Sentenced to Nine Years in Prison \\r\\nfor Attempting to Communicate National Defense Information to China        1\n",
       "New Jersey Man Sentenced on International \\r\\nSex Tourism and Child Pornography Charges                                                      1\n",
       "Owner of Louisiana Automotive Businesses Pleads Guilty for Role in Stolen Identity Refund Fraud Scheme                                       1\n",
       "Justice Department Settles Race Discrimination Lawsuit Against Owners and Managers of Mobile Home Parks in Alabama and Georgia               1\n",
       "U.S. Court Bars California Man from Selling or Administering Pension and Employee Welfare-Benefit Plans                                      1\n",
       "Second Former State Department Employee Pleads Guilty to Illegally Accessing Confidential Passport Files                                     1\n",
       "Former Owner of Airline Services Company Pleads Guilty in Scheme to Defraud Illinois-Based Ryan International Airlines                       1\n",
       "Maryland MS-13 Member Convicted in Federal Racketeering Conspiracy Including Murder                                                          1\n",
       "Three Philippine Nationals Sentenced for \\r\\nImporting  High-powered Weapons into the U.S.                                                   1\n",
       "Wilcox County, Georgia, Jailer Pleads Guilty in Connection with Assault of Three Inmates                                                     1\n",
       "Oregon Man Sentenced in Boston to 36 Months in Prison for\\r\\nHelping Thousands Steal Internet Service                                        1\n",
       "Virginia Charter Fishing Boat Captains\\r\\nIndicted for Lacey Act Violations and Other Crimes                                                 1\n",
       "Federal Court Bars North Carolina Man from Promoting Alleged Tax Fraud Scheme                                                                1\n",
       "Justice Department Signs Agreement with the City of West Columbia, S.C. to Ensure Civic Access for People with Disabilities                  1\n",
       "Imprisoned Spy and His Son Indicted on Charges of Acting\\r\\nas Russian Agents and Money Laundering                                           1\n",
       "ZTE Corporation Agrees to Plead Guilty and Pay Over $430.4 Million for Violating U.S. Sanctions by Sending U.S.-Origin Items to Iran         1\n",
       "Justice Department Seeks to Stop Florida Tax Return Preparer from Preparing Federal Tax Returns                                              1\n",
       "Former Memphis Police Officer Found Guilty on 44 Counts\\r\\nof Civil Rights, Narcotics, Robbery and Firearms Charges                          1\n",
       "Four Businessmen and Two Foreign Officials Plead Guilty in Connection with Bribes Paid to Mexican Aviation Officials                         1\n",
       "Army Officer, Wife and Relatives Sentenced in Bribery and Money Laundering Scheme Related to DOD Contracts in Support of Iraq War            1\n",
       "Department of Justice Will Not Challenge Proposed Online Subscription News Service                                                           1\n",
       "Three MS-13 Leaders Sentenced for Racketeering and Related Charges for Multiple Murders and Attacks                                          1\n",
       "Statement by Attorney General Holder on Fatal Shooting of Deputy U.S. Marshal Josie Wells                                                    1\n",
       "Kansas Man Convicted of Producing Child Pornography                                                                                          1\n",
       "Detroit Clinic Manager Pleads Guilty in Medicare Fraud Scheme                                                                                1\n",
       "Self-proclaimed “Governor” of Alabama Sentenced to Ten Years in Federal Prison for Tax Fraud                                                 1\n",
       "Former Virginia Detective Sentenced to 23 Years in Prison for Sexually Exploiting Minors                                                     1\n",
       "Name: title, Length: 12886, dtype: int64"
      ]
     },
     "execution_count": 84,
     "metadata": {},
     "output_type": "execute_result"
    }
   ],
   "source": [
    "doj['title'].value_counts()"
   ]
  },
  {
   "cell_type": "markdown",
   "metadata": {},
   "source": [
    "It looks like there are a few articles that have the same title, but the text of the press releases also differs slightly, which could give us information for the model. Some of the headlines also appear general enough that they could be referring to different events. We'll keep them in for now."
   ]
  },
  {
   "cell_type": "markdown",
   "metadata": {},
   "source": [
    "### Saving cleaned data to file"
   ]
  },
  {
   "cell_type": "code",
   "execution_count": 86,
   "metadata": {},
   "outputs": [],
   "source": [
    "with open(\"doj_c.pkl\", \"wb\") as f:\n",
    "    pickle.dump(doj, f)"
   ]
  }
 ],
 "metadata": {
  "kernelspec": {
   "display_name": "Python 3",
   "language": "python",
   "name": "python3"
  },
  "language_info": {
   "codemirror_mode": {
    "name": "ipython",
    "version": 3
   },
   "file_extension": ".py",
   "mimetype": "text/x-python",
   "name": "python",
   "nbconvert_exporter": "python",
   "pygments_lexer": "ipython3",
   "version": "3.6.6"
  }
 },
 "nbformat": 4,
 "nbformat_minor": 2
}
