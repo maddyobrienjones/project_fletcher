{
 "cells": [
  {
   "cell_type": "code",
   "execution_count": 1,
   "metadata": {},
   "outputs": [
    {
     "name": "stdout",
     "output_type": "stream",
     "text": [
      "Topic 1: pleaded,prison,enforcement,fbi,law,case,sentenced,trial,guilty,criminal\n",
      "Topic 2: prepared,injunction,customers,refunds,false,return,income,irs,returns,tax\n",
      "Topic 3: beneficiaries,home,strike,oig,services,hhs,fraud,care,health,medicare\n",
      "Topic 4: allegations,false,states,care,government,health,act,civil,claims,settlement\n",
      "Topic 5: images,ceos,safe,sexual,children,project,exploitation,childhood,pornography,child\n",
      "Topic 6: consent,environment,water,pollution,environmental,settlement,emissions,clean,air,epa\n",
      "Topic 7: disability,persons,800,lawsuit,race,disabilities,hud,discrimination,fair,housing\n",
      "Topic 8: fine,industry,price,fixing,rigging,competition,auctions,prices,bid,antitrust\n",
      "Topic 9: hate,assault,county,inmate,officer,police,victim,officers,civil,rights\n",
      "Topic 10: disability,individuals,800,people,accessible,514,agreement,access,disabilities,ada\n",
      "Topic 11: hotline,provision,800,status,citizenship,immigration,ina,discrimination,employment,osc\n",
      "Topic 12: ship,species,water,fish,environmental,vessel,wildlife,guard,coast,oil\n",
      "Topic 13: allegedly,proven,innocent,maximum,charged,presumed,count,charges,alleges,indictment\n",
      "Topic 14: violence,police,county,aka,abt,texas,murder,racketeering,members,gang\n",
      "Topic 15: bribes,government,fcpa,defense,criminal,company,contract,bribery,contracts,army\n",
      "Topic 16: lending,bank,scheme,securities,force,investors,mortgage,task,financial,fraud\n",
      "Topic 17: assets,undeclared,ubs,taxes,offshore,swiss,account,irs,bank,accounts\n",
      "Topic 18: jurisdictions,language,activities,federal,monitor,act,elections,voters,election,voting\n",
      "Topic 19: consumers,defendants,manufacturing,consumer,complaint,products,drugs,food,drug,fda\n",
      "Topic 20: organization,syria,travel,isis,terrorism,material,support,al,terrorist,isil\n"
     ]
    }
   ],
   "source": [
    "import numpy as np\n",
    " \n",
    "import pandas as pd\n",
    "import pickle\n",
    "from sklearn.feature_extraction.text import TfidfVectorizer\n",
    "from nltk.corpus import stopwords\n",
    "\n",
    "from sklearn.decomposition import NMF\n",
    " \n",
    "with open('doj_c.pkl','rb') as f:\n",
    "    doj = pickle.load(f)\n",
    "data = doj['contents']\n",
    "\n",
    "vectorizer = TfidfVectorizer(max_features=2000, min_df=50,max_df=.75, stop_words=stopwords.words('english'))\n",
    " \n",
    "X = vectorizer.fit_transform(data)\n",
    " \n",
    "idx_to_word = np.array(vectorizer.get_feature_names())\n",
    " \n",
    "# apply NMF\n",
    " \n",
    "nmf = NMF(n_components=20, solver=\"mu\")\n",
    " \n",
    "W = nmf.fit_transform(X)\n",
    " \n",
    "H = nmf.components_\n",
    " \n",
    "# print the topics\n",
    " \n",
    "for i, topic in enumerate(H):\n",
    " \n",
    "    print(\"Topic {}: {}\".format(i + 1, \",\".join([str(x) for x in idx_to_word[topic.argsort()[-10:]]])))"
   ]
  },
  {
   "cell_type": "markdown",
   "metadata": {},
   "source": [
    "### Topics\n",
    "\n",
    "* Trials: pleaded,prison,enforcement,fbi,law,case,sentenced,trial,guilty,criminal\n",
    "* Taxes: prepared,injunction,customers,refunds,false,return,income,irs,returns,tax\n",
    "* Fraud, Insurance: beneficiaries,home,strike,oig,services,hhs,fraud,care,health,medicare\n",
    "* ???: allegations,false,states,care,government,health,act,civil,claims,settlement\n",
    "* Child Pornography: images,ceos,safe,sexual,children,project,exploitation,childhood,pornography,child\n",
    "* Pollution: consent,environment,water,pollution,environmental,settlement,emissions,clean,air,epa\n",
    "* Ableism: disability,persons,800,lawsuit,race,disabilities,hud,discrimination,fair,housing\n",
    "* Trusts: fine,industry,price,fixing,rigging,competition,auctions,prices,bid,antitrust\n",
    "* Crime: hate,assault,county,inmate,officer,police,victim,officers,civil,rights\n",
    "* Accessibility: disability,individuals,800,people,accessible,514,agreement,access,disabilities,ada\n",
    "* Immigration: hotline,provision,800,status,citizenship,immigration,ina,discrimination,employment,osc\n",
    "* Environment: ship,species,water,fish,environmental,vessel,wildlife,guard,coast,oil\n",
    "* Trials: allegedly,proven,innocent,maximum,charged,presumed,count,charges,alleges,indictment\n",
    "* Organized Crime: violence,police,county,aka,abt,texas,murder,racketeering,members,gang\n",
    "* Corruption: bribes,government,defense,fcpa,criminal,company,contract,bribery,contracts,army\n",
    "* Financial Fraud: lending,bank,scheme,securities,force,investors,mortgage,task,financial,fraud\n",
    "* Offshore Bank Accounts: assets,undeclared,ubs,taxes,offshore,swiss,account,irs,bank,accounts\n",
    "* Elections: jurisdictions,language,activities,federal,monitor,act,elections,voters,election,voting\n",
    "* Consumers: consumers,defendants,manufacturing,consumer,complaint,products,drugs,food,drug,fda\n",
    "* Terrorism: organization,syria,travel,isis,terrorism,material,support,al,terrorist,isil"
   ]
  },
  {
   "cell_type": "code",
   "execution_count": 2,
   "metadata": {},
   "outputs": [
    {
     "name": "stdout",
     "output_type": "stream",
     "text": [
      "Topic 1: conspiracy,count,trial,fbi,prison,fraud,case,guilty,criminal,indictment\n",
      "Topic 2: prepared,revenue,customers,refunds,return,false,income,irs,returns,tax\n",
      "Topic 3: beneficiaries,strike,claims,oig,services,hhs,fraud,care,health,medicare\n",
      "Topic 4: complaint,lawsuit,hud,act,voting,fair,civil,discrimination,rights,housing\n",
      "Topic 5: images,ceos,safe,sexual,project,children,exploitation,childhood,pornography,child\n",
      "Topic 6: states,clean,water,government,air,environmental,act,claims,epa,settlement\n",
      "Topic 7: hotline,provision,status,800,citizenship,immigration,ina,discrimination,employment,osc\n",
      "Topic 8: fixing,price,estate,foreclosure,competition,prices,rigging,bid,auctions,antitrust\n",
      "Topic 9: individuals,people,county,accessible,rights,514,agreement,access,disabilities,ada\n",
      "Topic 10: violence,york,enforcement,new,law,isil,support,security,terrorist,national\n"
     ]
    }
   ],
   "source": [
    "nmf = NMF(n_components=10, solver=\"mu\")\n",
    " \n",
    "W = nmf.fit_transform(X)\n",
    " \n",
    "H = nmf.components_\n",
    " \n",
    "# print the topics\n",
    " \n",
    "for i, topic in enumerate(H):\n",
    " \n",
    "    print(\"Topic {}: {}\".format(i + 1, \",\".join([str(x) for x in idx_to_word[topic.argsort()[-10:]]])))"
   ]
  },
  {
   "cell_type": "markdown",
   "metadata": {},
   "source": [
    "### Topics\n",
    "* Trials: conspiracy,count,trial,fbi,prison,fraud,case,guilty,criminal,indictment\n",
    "* Taxes: prepared,revenue,customers,refunds,return,false,income,irs,returns,tax\n",
    "* Benefits: beneficiaries,strike,claims,oig,services,hhs,fraud,care,health,medicare\n",
    "* Housing: complaint,lawsuit,hud,act,voting,fair,civil,discrimination,rights,housing\n",
    "* Child Pornography: images,ceos,safe,sexual,project,children,exploitation,childhood,pornography,child\n",
    "* Environment: states,clean,water,government,air,environmental,act,claims,epa,settlement\n",
    "* Immigration: hotline,provision,status,800,citizenship,immigration,ina,discrimination,employment,osc\n",
    "* Financial Issues: fixing,price,estate,foreclosure,competition,prices,rigging,bid,auctions,antitrust\n",
    "* Accessibility: individuals,people,county,accessible,rights,514,agreement,access,disabilities,ada\n",
    "* Terrorism: york,violence,enforcement,new,isil,support,law,security,terrorist,national"
   ]
  },
  {
   "cell_type": "code",
   "execution_count": 3,
   "metadata": {},
   "outputs": [
    {
     "name": "stdout",
     "output_type": "stream",
     "text": [
      "Topic 1: victim,pleaded,prison,sentenced,trial,case,civil,fbi,guilty,rights\n",
      "Topic 2: prepared,revenue,customers,refunds,false,return,income,irs,returns,tax\n",
      "Topic 3: home,beneficiaries,strike,oig,services,hhs,fraud,care,health,medicare\n",
      "Topic 4: complaint,lawsuit,voting,act,hud,civil,fair,rights,discrimination,housing\n",
      "Topic 5: images,ceos,safe,sexual,children,project,exploitation,childhood,pornography,child\n",
      "Topic 6: united,fda,states,care,false,act,government,health,claims,settlement\n",
      "Topic 7: securities,swiss,mortgage,investors,account,irs,fraud,accounts,financial,bank\n",
      "Topic 8: industry,fine,price,fixing,competition,rigging,prices,bid,auctions,antitrust\n",
      "Topic 9: individuals,people,rights,county,accessible,514,agreement,access,disabilities,ada\n",
      "Topic 10: terrorism,al,law,york,new,support,security,national,isil,terrorist\n",
      "Topic 11: hotline,provision,800,status,citizenship,immigration,ina,discrimination,employment,osc\n",
      "Topic 12: natural,environment,emissions,oil,pollution,clean,water,air,environmental,epa\n",
      "Topic 13: proven,innocent,allegedly,maximum,presumed,charged,count,charges,alleges,indictment\n",
      "Topic 14: ms,county,drug,aka,abt,texas,murder,racketeering,members,gang\n",
      "Topic 15: government,bribes,company,defense,contract,fcpa,contracts,criminal,bribery,army\n"
     ]
    }
   ],
   "source": [
    "nmf = NMF(n_components=15, solver=\"mu\")\n",
    " \n",
    "W = nmf.fit_transform(X)\n",
    " \n",
    "H = nmf.components_\n",
    " \n",
    "# print the topics\n",
    " \n",
    "for i, topic in enumerate(H):\n",
    " \n",
    "    print(\"Topic {}: {}\".format(i + 1, \",\".join([str(x) for x in idx_to_word[topic.argsort()[-10:]]])))"
   ]
  },
  {
   "cell_type": "markdown",
   "metadata": {},
   "source": [
    "### Topics\n",
    "\n",
    "* Trials: criminal,pleaded,prison,sentenced,fbi,trial,case,civil,guilty,rights\n",
    "* Taxes: prepared,revenue,customers,refunds,false,return,income,irs,returns,tax\n",
    "* Benefits: home,beneficiaries,strike,oig,services,hhs,fraud,care,health,medicare\n",
    "* Discrimination: complaint,lawsuit,voting,act,hud,civil,fair,discrimination,rights,housing\n",
    "* Child pornography: images,ceos,safe,sexual,children,project,exploitation,childhood,pornography,child\n",
    "* Consumer issues: united,fda,states,care,false,act,government,health,claims,settlement\n",
    "* Fraud: securities,swiss,mortgage,investors,irs,account,fraud,accounts,financial,bank\n",
    "* Financial issues: industry,fine,price,fixing,competition,rigging,prices,bid,auctions,antitrust\n",
    "* Accessibility: individuals,people,rights,county,accessible,514,agreement,access,disabilities,ada\n",
    "* Terrorism: terrorism,al,law,york,new,support,security,national,isil,terrorist\n",
    "* Immigration: hotline,provision,800,status,citizenship,immigration,ina,discrimination,employment,osc\n",
    "* Environment: natural,environment,emissions,oil,pollution,clean,water,air,environmental,epa\n",
    "* Trials: proven,innocent,allegedly,maximum,presumed,charged,count,charges,alleges,indictment\n",
    "* Organized crime: ms,county,drug,aka,abt,texas,murder,racketeering,members,gang\n",
    "* Corruption: government,bribes,company,fcpa,defense,contract,contracts,criminal,bribery,army"
   ]
  },
  {
   "cell_type": "code",
   "execution_count": 17,
   "metadata": {},
   "outputs": [],
   "source": [
    "import string\n",
    "import unidecode\n",
    "from nltk.stem import SnowballStemmer\n",
    "from nltk.tokenize import word_tokenize\n",
    "\n",
    "def customtokenizer(article):\n",
    "    punc = str.maketrans('','',string.punctuation)\n",
    "    article_c = article.translate(punc)\n",
    "    dig = str.maketrans('','',string.digits)\n",
    "    article_c=article_c.translate(dig)\n",
    "    punc_2 = str.maketrans('','',\"``''''``\")\n",
    "    article_c = article.translate(punc_2)\n",
    "    article_c = unidecode.unidecode(article_c)\n",
    "    article_c = article_c.lower()\n",
    "    article_c = word_tokenize(article_c)\n",
    "    stop_words = stopwords.words('english')\n",
    "    article_c = [y for y in article_c if y not in stop_words]\n",
    "    stemmer = SnowballStemmer('english')\n",
    "    article_c = [stemmer.stem(y) for y in article_c] \n",
    "    return article_c"
   ]
  },
  {
   "cell_type": "code",
   "execution_count": 18,
   "metadata": {},
   "outputs": [
    {
     "name": "stdout",
     "output_type": "stream",
     "text": [
      "Topic 1: plead,fals,year,count,trial,crimin,guilti,prison,$,sentenc\n",
      "Topic 2: fals,refund,busi,custom,injunct,incom,ir,return,prepar,tax\n",
      "Topic 3: patient,strike,beneficiari,bill,hhs-oig,medic,fraud,care,health,medicar\n",
      "Topic 4: civil,'',fals,``,govern,care,alleg,health,settlement,claim\n",
      "Topic 5: imag,ceo,safe,children,project,childhood,sexual,exploit,pornographi,child\n",
      "Topic 6: pollut,environ,``,settlement,discharg,site,clean,environment,epa,water\n",
      "Topic 7: fbi,'',travel,``,materi,terror,attack,support,isil,terrorist\n",
      "Topic 8: fine,real,estat,foreclosur,fix,price,rig,auction,bid,antitrust\n",
      "Topic 9: hotlin,status,anti-discrimin,immigr,worker,citizenship,discrimin,ina,osc,employ\n",
      "Topic 10: face,offic,hate,charg,fbi,indict,violat,assault,civil,right\n",
      "Topic 11: constitut,ensur,communiti,access,improv,reform,citi,right,agreement,counti\n",
      "Topic 12: race,tenant,lawsuit,apart,famili,hud,disabl,fair,discrimin,hous\n",
      "Topic 13: crimin,govern,afghanistan,procur,bribe,briberi,defens,contractor,armi,contract\n",
      "Topic 14: toll-fre,pca,accommod,individu,peopl,agreement,civic,access,disabl,ada\n",
      "Topic 15: polic,counti,firearm,aka,ms-13,racket,;,murder,member,gang\n",
      "Topic 16: mere,proven,innoc,presum,count,defend,fraud,charg,alleg,indict\n",
      "Topic 17: asset,client,undeclar,ub,offshor,tax,ir,swiss,account,bank\n",
      "Topic 18: feder,jurisdict,act,ballot,monitor,observ,poll,voter,elect,vote\n",
      "Topic 19: supplement,prescript,complaint,distribut,consum,manufactur,product,food,fda,drug\n",
      "Topic 20: award,tribe,crime,;,program,communiti,grant,indian,violenc,tribal\n",
      "Topic 21: bank,fraudul,check,card,aggrav,alabama,stolen,theft,refund,ident\n",
      "Topic 22: said,women,crime,human,prostitut,'',``,sex,traffick,victim\n",
      "Topic 23: member,uniform,servicememb,labor,servic,right,militari,reemploy,employ,userra\n",
      "Topic 24: book,oili,record,wast,discharg,vessel,oil,ship,guard,coast\n",
      "Topic 25: ton,control,reduc,plant,clean,settlement,epa,pollut,emiss,air\n",
      "Topic 26: dea,cartel,mexican,smuggl,extradit,cocain,state,traffick,unit,mexico\n",
      "Topic 27: equal,sexual,civil,vii,discrimin,titl,harass,educ,student,school\n",
      "Topic 28: forc,hud,fha,task,lend,borrow,bank,financi,mortgag,loan\n",
      "Topic 29: counti,sheriff,brotherhood,aryan,prospect,southern,houston,;,abt,texa\n",
      "Topic 30: ;,mental,kickback,php,patient,health,southern,miami,atc,florida\n",
      "Topic 31: natur,trade,harvest,endang,lacey,illeg,horn,speci,fish,wildlif\n",
      "Topic 32: offic,state,n.y.,;,brooklyn,citi,eastern,jersey,new,york\n",
      "Topic 33: infring,crimin,forc,copyright,ip,task,properti,counterfeit,intellectu,comput\n",
      "Topic 34: divest,divestitur,would,comment,merger,settlement,acquisit,propos,competit,antitrust\n",
      "Topic 35: possess,emilia,rican,rosa,rodriguez-velez,san,juan,;,rico,puerto\n",
      "Topic 36: violat,million,launder,payment,foreign,compani,offici,bribe,corrupt,fcpa\n",
      "Topic 37: said,cop,forc,enforc,communiti,'',law,``,offic,polic\n",
      "Topic 38: control,commerc,militari,iranian,technolog,defens,nation,secur,iran,export\n",
      "Topic 39: work,holder,deputi,issu,univers,committe,presid,law,serv,campaign\n",
      "Topic 40: prison,former,beat,'',jail,``,offic,assault,correct,inmat\n"
     ]
    }
   ],
   "source": [
    "vectorizer = TfidfVectorizer(tokenizer=customtokenizer,max_features=5000, min_df=50,max_df=.75, stop_words=stopwords.words('english'))\n",
    " \n",
    "X = vectorizer.fit_transform(data)\n",
    " \n",
    "idx_to_word = np.array(vectorizer.get_feature_names())\n",
    " \n",
    "# apply NMF\n",
    " \n",
    "nmf = NMF(n_components=40, solver=\"mu\")\n",
    " \n",
    "W = nmf.fit_transform(X)\n",
    " \n",
    "H = nmf.components_\n",
    " \n",
    "# print the topics\n",
    " \n",
    "for i, topic in enumerate(H):\n",
    " \n",
    "    print(\"Topic {}: {}\".format(i + 1, \",\".join([str(x) for x in idx_to_word[topic.argsort()[-10:]]])))"
   ]
  },
  {
   "cell_type": "code",
   "execution_count": 12,
   "metadata": {},
   "outputs": [
    {
     "name": "stdout",
     "output_type": "stream",
     "text": [
      "Topic 1: count,prosecut,crimin,plead,year,offic,trial,guilti,prison,sentenc\n",
      "Topic 2: refund,file,injunct,busi,fals,incom,ir,prepar,return,tax\n",
      "Topic 3: strike,patient,beneficiari,bill,hhsoig,medic,care,fraud,health,medicar\n",
      "Topic 4: state,injunct,prepar,feder,'',``,alleg,complaint,right,civil\n",
      "Topic 5: imag,ceo,safe,project,children,childhood,sexual,exploit,pornographi,child\n",
      "Topic 6: compani,market,would,merger,consum,acquisit,settlement,propos,competit,antitrust\n",
      "Topic 7: tenant,race,lawsuit,apart,famili,disabl,hud,fair,discrimin,hous\n",
      "Topic 8: industri,charg,conspiraci,automot,rig,fine,bid,fix,price,antitrust\n",
      "Topic 9: environ,plant,water,settlement,environment,clean,emiss,pollut,air,epa\n",
      "Topic 10: hotlin,status,antidiscrimin,discrimin,worker,citizenship,immigr,ina,osc,employ\n",
      "Topic 11: grand,mere,proven,innoc,presum,defend,count,charg,alleg,indict\n",
      "Topic 12: accommod,equal,counti,individu,peopl,civic,agreement,access,disabl,ada\n",
      "Topic 13: bribe,award,afghanistan,briberi,procur,govern,defens,contractor,armi,contract\n",
      "Topic 14: govern,physician,program,patient,hospit,fals,settlement,claim,care,health\n",
      "Topic 15: polic,drug,firearm,counti,aka,ms,racket,murder,member,gang\n",
      "Topic 16: client,undeclar,ub,asset,offshor,ir,financi,swiss,account,bank\n",
      "Topic 17: card,fraudul,check,fraud,aggrav,alabama,stolen,theft,refund,ident\n",
      "Topic 18: act,ballot,jurisdict,counti,monitor,observ,poll,voter,elect,vote\n",
      "Topic 19: compani,complaint,prescript,distribut,consum,manufactur,product,food,fda,drug\n",
      "Topic 20: crime,award,nation,grant,law,indian,program,communiti,violenc,tribal\n",
      "Topic 21: task,rig,investor,bid,fraud,financi,real,estat,foreclosur,auction\n",
      "Topic 22: resourc,harvest,natur,endang,lacey,illeg,horn,speci,fish,wildlif\n",
      "Topic 23: posit,servicememb,uniform,labor,servic,right,militari,reemploy,employ,userra\n",
      "Topic 24: oili,record,wast,water,discharg,vessel,ship,guard,oil,coast\n",
      "Topic 25: right,drug,forc,mexico,women,human,prostitut,sex,victim,traffick\n",
      "Topic 26: american,defend,fbi,continu,crime,attack,said,victim,'',``\n",
      "Topic 27: languag,consent,english,equal,univers,titl,harass,educ,student,school\n",
      "Topic 28: organ,syria,attack,isi,materi,terror,travel,support,terrorist,isil\n",
      "Topic 29: offic,fraud,ny,state,brooklyn,citi,eastern,jersey,york,new\n",
      "Topic 30: briberi,payment,money,foreign,compani,launder,corrupt,offici,bribe,fcpa\n",
      "Topic 31: intimid,victim,crime,home,burn,africanamerican,cross,civil,hate,right\n",
      "Topic 32: cell,violenc,sheriff,jail,counti,correct,victim,sexual,assault,inmat\n",
      "Topic 33: virginia,forc,crimin,copyright,ip,task,properti,counterfeit,intellectu,comput\n",
      "Topic 34: polic,transact,cocain,jose,possess,ident,san,juan,rico,puerto\n",
      "Topic 35: reform,constitut,citi,forc,cop,enforc,law,communiti,offic,polic\n",
      "Topic 36: reimburs,public,senat,fund,polit,committe,candid,elect,contribut,campaign\n",
      "Topic 37: rule,crimin,sheriff,dalla,prospect,offic,southern,houston,abt,texa\n",
      "Topic 38: mental,patient,offic,ferrer,kickback,php,southern,atc,miami,florida\n",
      "Topic 39: control,commerc,iranian,technolog,militari,defens,nation,secur,iran,export\n",
      "Topic 40: home,insur,hud,lend,lender,fha,bank,borrow,mortgag,loan\n"
     ]
    }
   ],
   "source": [
    "vectorizer = TfidfVectorizer(tokenizer=customtokenizer,max_features=2000, min_df=50,max_df=.75, stop_words=stopwords.words('english'))\n",
    " \n",
    "X = vectorizer.fit_transform(data)\n",
    " \n",
    "idx_to_word = np.array(vectorizer.get_feature_names())\n",
    " \n",
    "# apply NMF\n",
    " \n",
    "nmf = NMF(n_components=40, solver=\"mu\")\n",
    " \n",
    "W = nmf.fit_transform(X)\n",
    " \n",
    "H = nmf.components_\n",
    " \n",
    "# print the topics\n",
    " \n",
    "for i, topic in enumerate(H):\n",
    " \n",
    "    print(\"Topic {}: {}\".format(i + 1, \",\".join([str(x) for x in idx_to_word[topic.argsort()[-10:]]])))"
   ]
  },
  {
   "cell_type": "code",
   "execution_count": 3,
   "metadata": {},
   "outputs": [
    {
     "ename": "NameError",
     "evalue": "name 'self' is not defined",
     "output_type": "error",
     "traceback": [
      "\u001b[0;31m---------------------------------------------------------------------------\u001b[0m",
      "\u001b[0;31mNameError\u001b[0m                                 Traceback (most recent call last)",
      "\u001b[0;32m<ipython-input-3-baf6c6024fc1>\u001b[0m in \u001b[0;36m<module>\u001b[0;34m()\u001b[0m\n\u001b[1;32m      1\u001b[0m \u001b[0;32mfrom\u001b[0m \u001b[0msklearn\u001b[0m\u001b[0;34m.\u001b[0m\u001b[0mfeature_extraction\u001b[0m\u001b[0;34m.\u001b[0m\u001b[0mtext\u001b[0m \u001b[0;32mimport\u001b[0m \u001b[0mTfidfVectorizer\u001b[0m\u001b[0;34m\u001b[0m\u001b[0m\n\u001b[1;32m      2\u001b[0m \u001b[0;34m\u001b[0m\u001b[0m\n\u001b[0;32m----> 3\u001b[0;31m \u001b[0mTfidfVectorizer\u001b[0m\u001b[0;34m.\u001b[0m\u001b[0mbuild_preprocessor\u001b[0m\u001b[0;34m(\u001b[0m\u001b[0mself\u001b[0m\u001b[0;34m)\u001b[0m\u001b[0;34m\u001b[0m\u001b[0m\n\u001b[0m",
      "\u001b[0;31mNameError\u001b[0m: name 'self' is not defined"
     ]
    }
   ],
   "source": [
    "from sklearn.feature_extraction.text import TfidfVectorizer\n",
    "\n",
    "snow = SnowballStemmer()\n",
    "analyzer = TfidfVectorizer().build_analyzer()\n",
    "\n",
    "def stem_words(doc):\n",
    "    return [snow.stem(word) for word in analyzer(doc)]\n",
    "\n",
    "tfidf = TfidfVectorizer(max_features=2000,min_df=50,max_df=.75,stop_words=stopwords.words('english'),analyzer=analyzer)"
   ]
  },
  {
   "cell_type": "code",
   "execution_count": null,
   "metadata": {},
   "outputs": [],
   "source": []
  }
 ],
 "metadata": {
  "kernelspec": {
   "display_name": "Python 3",
   "language": "python",
   "name": "python3"
  },
  "language_info": {
   "codemirror_mode": {
    "name": "ipython",
    "version": 3
   },
   "file_extension": ".py",
   "mimetype": "text/x-python",
   "name": "python",
   "nbconvert_exporter": "python",
   "pygments_lexer": "ipython3",
   "version": "3.6.6"
  }
 },
 "nbformat": 4,
 "nbformat_minor": 2
}
