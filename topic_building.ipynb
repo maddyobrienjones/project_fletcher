{
 "cells": [
  {
   "cell_type": "markdown",
   "metadata": {},
   "source": [
    "## Necessary imports, vectorizing and transforming data into NMF matrix, and printing of resulting topics"
   ]
  },
  {
   "cell_type": "code",
   "execution_count": 2,
   "metadata": {},
   "outputs": [],
   "source": [
    "import numpy as np\n",
    " \n",
    "import pandas as pd\n",
    "import pickle\n",
    "from sklearn.feature_extraction.text import TfidfVectorizer\n",
    "from nltk.corpus import stopwords\n",
    "from nltk.stem import SnowballStemmer\n",
    "\n",
    "from sklearn.decomposition import NMF\n",
    " \n",
    "with open('doj_c.pkl','rb') as f:\n",
    "    doj = pickle.load(f)\n",
    "data = doj['contents']\n",
    "import string\n",
    "import unidecode\n",
    "from nltk.stem import SnowballStemmer\n",
    "from nltk.tokenize import word_tokenize\n",
    "import re\n",
    "\n",
    "def customtokenizer(article):\n",
    "    punc = str.maketrans('','',string.punctuation+\"''``''``\\\"\")\n",
    "    article_c = article.translate(punc)\n",
    "    dig = str.maketrans('','',string.digits)\n",
    "    article_c=article_c.translate(dig)\n",
    "    article_c = unidecode.unidecode(article_c)\n",
    "    article_c = article_c.lower()\n",
    "    regex = re.compile(r'(?u)\\b\\w\\w+\\b')\n",
    "    article_c = re.findall(regex,article_c)\n",
    "    stop_words = stopwords.words('english')\n",
    "    article_c = [y for y in article_c if y not in stop_words]\n",
    "    stemmer = SnowballStemmer('english')\n",
    "    article_c = [stemmer.stem(y) for y in article_c] \n",
    "    return article_c"
   ]
  },
  {
   "cell_type": "code",
   "execution_count": 3,
   "metadata": {},
   "outputs": [
    {
     "name": "stderr",
     "output_type": "stream",
     "text": [
      "/Users/madisonobrienjones/anaconda3/lib/python3.6/site-packages/sklearn/feature_extraction/text.py:286: UserWarning: Your stop_words may be inconsistent with your preprocessing. Tokenizing the stop words generated tokens ['arent', 'couldnt', 'didnt', 'doesnt', 'dont', 'hadnt', 'hasnt', 'havent', 'isnt', 'mightnt', 'mustnt', 'neednt', 'shant', 'shes', 'shouldnt', 'shouldv', 'thatll', 'wasnt', 'werent', 'wont', 'wouldnt', 'youd', 'youll', 'youv'] not in stop_words.\n",
      "  sorted(inconsistent))\n"
     ]
    }
   ],
   "source": [
    "vectorizer = TfidfVectorizer(tokenizer=customtokenizer,max_features=2000, min_df=50,max_df=.75, stop_words=stopwords.words('english'))\n",
    " \n",
    "X = vectorizer.fit_transform(data)\n",
    " \n",
    "idx_to_word = np.array(vectorizer.get_feature_names())"
   ]
  },
  {
   "cell_type": "code",
   "execution_count": 4,
   "metadata": {},
   "outputs": [
    {
     "name": "stdout",
     "output_type": "stream",
     "text": [
      "Topic 1: plea,pay,special,also,fbi,conspiraci,admit,judg,prosecut,count,agent,year,charg,plead,offic,prison,trial,guilti,crimin,sentenc\n",
      "Topic 2: fraudul,client,websit,expens,deduct,complaint,credit,revenu,claim,refund,file,custom,busi,fals,injunct,incom,ir,return,prepar,tax\n",
      "Topic 3: clinic,florida,forc,medicaid,therapi,kickback,servic,fraudul,hhs,home,strike,beneficiari,bill,patient,hhsoig,medic,fraud,care,health,medicar\n",
      "Topic 4: said,equal,prohibit,tenant,harass,alleg,apart,race,complaint,act,settlement,disabl,famili,lawsuit,hud,civil,right,fair,discrimin,hous\n",
      "Topic 5: launch,via,video,epidem,apprehend,rescu,internet,obscen,abus,minor,imag,ceo,safe,project,children,childhood,sexual,exploit,pornographi,child\n",
      "Topic 6: site,reduc,natur,decre,compani,requir,plant,wast,facil,environ,oil,discharg,clean,emiss,water,environment,settlement,air,pollut,epa\n",
      "Topic 7: carlin,join,syria,new,provid,york,attempt,isi,fbi,state,organ,nation,secur,travel,materi,terror,attack,support,isil,terrorist\n",
      "Topic 8: maximum,particip,propos,execut,compani,twice,agre,ongo,anticompetit,charg,conspiraci,industri,automot,rig,fine,competit,bid,fix,price,antitrust\n",
      "Topic 9: hear,employe,practic,origin,nation,elig,impair,verif,provis,hire,hotlin,status,antidiscrimin,discrimin,worker,citizenship,immigr,ina,osc,employ\n",
      "Topic 10: feder,obstruct,beat,hate,prison,constitut,former,abus,fbi,jail,sheriff,incid,counti,violat,correct,offic,assault,inmat,civil,right\n",
      "Topic 11: juri,unseal,beyond,fals,doubt,supersed,face,accus,unless,maximum,grand,mere,proven,innoc,presum,defend,count,charg,alleg,indict\n",
      "Topic 12: initi,complianc,line,modif,american,ensur,facil,requir,tollfre,accommod,citi,equal,individu,peopl,counti,civic,agreement,access,disabl,ada\n",
      "Topic 13: former,navi,militari,iraq,afghanistan,award,payment,crimin,corrupt,procur,fcpa,offici,compani,defens,govern,contractor,briberi,armi,bribe,contract\n",
      "Topic 14: servic,medicaid,unit,recoveri,lawsuit,whistleblow,physician,state,act,resolv,patient,program,hospit,govern,alleg,fals,care,settlement,claim,health\n",
      "Topic 15: crimin,cocain,robberi,violenc,rival,sheriff,street,enterpris,drug,firearm,polic,ms,counti,aka,abt,texa,racket,murder,member,gang\n",
      "Topic 16: mail,file,count,use,coconspir,sentenc,obtain,debit,prison,middl,fraud,card,fraudul,check,aggrav,alabama,stolen,theft,refund,ident\n",
      "Topic 17: money,consum,million,wire,trade,market,credit,crime,borrow,lend,forc,scheme,invest,task,mortgag,investor,bank,loan,fraud,financi\n",
      "Topic 18: discriminatori,ensur,section,oversea,offici,personnel,requir,activ,languag,feder,counti,act,ballot,jurisdict,monitor,observ,poll,voter,elect,vote\n",
      "Topic 19: protect,pharmaceut,inspect,misbrand,adulter,injunct,dea,defend,civil,supplement,compani,prescript,complaint,distribut,consum,manufactur,product,food,fda,drug\n",
      "Topic 20: polici,agenc,cop,holder,public,safeti,nation,indian,award,school,crime,grant,offic,enforc,program,polic,violenc,law,tribal,communiti\n",
      "Topic 21: forc,select,northern,task,mortgag,financi,counti,homeown,fraud,california,public,francisco,properti,san,rig,bid,real,foreclosur,estat,auction\n",
      "Topic 22: trade,environment,vessel,resourc,smuggl,unit,coast,state,harvest,natur,ship,endang,traffick,lacey,horn,export,illeg,speci,fish,wildlif\n",
      "Topic 23: armi,file,job,guard,serv,duti,civilian,veteran,complaint,member,uniform,posit,labor,servicememb,servic,right,militari,reemploy,employ,userra\n",
      "Topic 24: girl,assault,prosecut,minor,vulner,said,young,labor,hate,forc,sexual,violenc,defend,crime,women,human,prostitut,sex,traffick,victim\n",
      "Topic 25: entiti,fund,open,transfer,program,agreement,disclosur,accounthold,foreign,switzerland,taxpay,client,ir,asset,ub,undeclar,offshor,swiss,account,bank\n"
     ]
    }
   ],
   "source": [
    "nmf = NMF(n_components=25, solver=\"mu\")\n",
    " \n",
    "W = nmf.fit_transform(X)\n",
    " \n",
    "H = nmf.components_\n",
    " \n",
    "# print the topics\n",
    " \n",
    "for i, topic in enumerate(H):\n",
    " \n",
    "    print(\"Topic {}: {}\".format(i + 1, \",\".join([str(x) for x in idx_to_word[topic.argsort()[-20:]]])))"
   ]
  },
  {
   "cell_type": "markdown",
   "metadata": {},
   "source": [
    "Topic 1 - Criminal Trials:   plea,pay,special,admit,also,fbi,judg,conspiraci,prosecut,count,agent,charg,year,plead,offic,prison,trial,guilti,crimin,sentenc  \n",
    "Topic 2 - Taxes:   fraudul,client,websit,expens,deduct,complaint,credit,revenu,claim,refund,file,custom,busi,fals,injunct,incom,ir,return,prepar,tax  \n",
    "Topic 3 - Benefits:   miami,clinic,florida,medicaid,therapi,servic,kickback,fraudul,hhs,home,strike,beneficiari,bill,patient,hhsoig,medic,fraud,care,health,medicar  \n",
    "Topic 4 - Discrimination:   said,equal,prohibit,tenant,harass,apart,alleg,race,complaint,act,settlement,disabl,famili,lawsuit,hud,civil,right,fair,discrimin,hous  \n",
    "Topic 5 - Child Pornography:   launch,via,video,epidem,apprehend,rescu,internet,obscen,abus,minor,imag,ceo,project,safe,children,childhood,sexual,exploit,pornographi,child  \n",
    "Topic 6 - Environment:   complianc,million,natur,consent,site,reduc,compani,decre,requir,environ,facil,plant,water,clean,environment,emiss,settlement,pollut,air,epa  \n",
    "Topic 7 - Terrorism:   unit,join,syria,new,york,provid,attempt,isi,state,fbi,organ,secur,nation,travel,materi,terror,attack,support,isil,terrorist  \n",
    "Topic 8 - Market regulation:   maximum,propos,particip,execut,compani,agre,twice,anticompetit,ongo,charg,conspiraci,industri,automot,rig,fine,competit,bid,fix,price,antitrust  \n",
    "Topic 9 - Immigration:   hear,employe,practic,origin,nation,elig,impair,verif,provis,hire,hotlin,status,antidiscrimin,discrimin,worker,citizenship,immigr,ina,osc,employ  \n",
    "Topic 10 - Prisoners:   perez,obstruct,beat,prison,hate,abus,constitut,former,sheriff,jail,fbi,incid,counti,violat,correct,offic,assault,inmat,civil,right  \n",
    "Topic 11 - Civil trials:   juri,unseal,beyond,fals,doubt,supersed,face,accus,unless,maximum,grand,mere,proven,innoc,presum,defend,count,charg,alleg,indict  \n",
    "Topic 12 - Accessibility:   initi,complianc,line,modif,american,ensur,facil,requir,tollfre,accommod,citi,equal,individu,peopl,counti,civic,agreement,access,disabl,ada  \n",
    "Topic 13 - Corruption:   former,navi,militari,iraq,afghanistan,award,payment,crimin,corrupt,procur,fcpa,compani,offici,defens,govern,contractor,briberi,armi,bribe,contract  \n",
    "Topic 14 - Whistleblowers:   servic,unit,medicaid,lawsuit,recoveri,whistleblow,physician,state,act,resolv,patient,program,hospit,govern,alleg,fals,care,settlement,claim,health  \n",
    "Topic 15 - Drugs:   cocain,crimin,robberi,rival,sheriff,violenc,street,enterpris,drug,firearm,polic,ms,counti,aka,abt,texa,racket,murder,member,gang  \n",
    "Topic 16 - Fraud:   mail,file,count,use,coconspir,sentenc,obtain,debit,prison,middl,fraud,card,fraudul,check,aggrav,alabama,stolen,theft,refund,ident  \n",
    "Topic 17 - White collar crime:   money,million,trade,victim,wire,market,credit,crime,borrow,lend,forc,scheme,invest,task,mortgag,investor,bank,loan,fraud,financi  \n",
    "Topic 18 - Elections:   discriminatori,ensur,section,oversea,offici,personnel,requir,activ,languag,feder,counti,act,ballot,jurisdict,monitor,observ,poll,voter,elect,vote  \n",
    "Topic 19 - Consumer issues:   protect,pharmaceut,inspect,misbrand,adulter,injunct,dea,civil,defend,supplement,compani,prescript,complaint,distribut,consum,manufactur,product,food,fda,drug  \n",
    "Topic 20 - Native Americans:   agenc,cop,work,holder,public,safeti,nation,school,indian,award,grant,crime,offic,enforc,polic,program,law,violenc,tribal,communiti  \n",
    "Topic 21 - Real estate:   forc,select,northern,task,mortgag,financi,counti,homeown,fraud,california,public,francisco,properti,san,rig,bid,real,foreclosur,estat,auction  \n",
    "Topic 22 - Trafficking:   civil,vulner,wildlif,smuggl,prosecut,immigr,young,said,mexico,labor,state,unit,right,women,crime,human,prostitut,sex,traffick,victim   \n",
    "Topic 23 - Veterans:  file,oblig,armi,job,serv,duti,civilian,veteran,complaint,member,posit,uniform,labor,servicememb,servic,right,militari,reemploy,employ,userra  \n",
    "Topic 24 - Ocean pollution:   environ,illeg,marin,speci,engin,book,ocean,oili,environment,record,wast,wildlif,fish,water,discharg,vessel,ship,guard,oil,coast  \n",
    "Topic 25 - Offshore accounts:   entiti,fund,transfer,open,program,agreement,disclosur,accounthold,foreign,switzerland,taxpay,client,ir,asset,ub,undeclar,offshor,swiss,account,bank\n"
   ]
  },
  {
   "cell_type": "markdown",
   "metadata": {},
   "source": [
    "### Assigning each document the topic it corresponds to most strongly"
   ]
  },
  {
   "cell_type": "code",
   "execution_count": 5,
   "metadata": {},
   "outputs": [],
   "source": [
    "import operator\n",
    "topics = []\n",
    "for item in W:\n",
    "    max_index, max_value = max(enumerate(item), key=operator.itemgetter(1))\n",
    "    topics.append(max_index) \n",
    "    \n",
    "doj[\"topicnumber\"] = pd.Series([x+1 for x in topics], index=doj.index)\n"
   ]
  },
  {
   "cell_type": "markdown",
   "metadata": {},
   "source": [
    "### Assigning probability for that topic to new column to indicate strength of correlation with that topic"
   ]
  },
  {
   "cell_type": "code",
   "execution_count": 6,
   "metadata": {},
   "outputs": [],
   "source": [
    "topics_likelihood = []\n",
    "for item in W:\n",
    "    max_index, max_value = max(enumerate(item), key=operator.itemgetter(1))\n",
    "    topics_likelihood.append(max_value)\n",
    "    \n",
    "doj[\"strengthoftopic\"] = pd.Series(topics_likelihood, index=doj.index)\n"
   ]
  },
  {
   "cell_type": "code",
   "execution_count": null,
   "metadata": {},
   "outputs": [],
   "source": [
    "with open(\"topics.pkl\", \"wb\") as f:\n",
    "    pickle.dump(doj, f)"
   ]
  },
  {
   "cell_type": "code",
   "execution_count": null,
   "metadata": {},
   "outputs": [],
   "source": [
    "doj.info()"
   ]
  },
  {
   "cell_type": "markdown",
   "metadata": {},
   "source": [
    "### Making year column to make organization easier later"
   ]
  },
  {
   "cell_type": "code",
   "execution_count": 7,
   "metadata": {},
   "outputs": [
    {
     "data": {
      "text/plain": [
       "0    2014\n",
       "1    2012\n",
       "2    2011\n",
       "3    2010\n",
       "4    2018\n",
       "Name: year, dtype: int64"
      ]
     },
     "execution_count": 7,
     "metadata": {},
     "output_type": "execute_result"
    }
   ],
   "source": [
    "doj['year'] = doj['date'].dt.year\n",
    "doj['year'].head()"
   ]
  },
  {
   "cell_type": "markdown",
   "metadata": {},
   "source": [
    "### Plotting distribution of topics -- Topic 2 and 20 seem to be biggest"
   ]
  },
  {
   "cell_type": "code",
   "execution_count": 8,
   "metadata": {},
   "outputs": [
    {
     "data": {
      "text/plain": [
       "(array([ 797., 1506.,  811.,  438.,  448.,  607.,  593.,  576.,  231.,\n",
       "         718.,  555.,  283.,  733.,  477.,  424.,  396.,  543.,  213.,\n",
       "         466.,  964.,  127.,  379.,  151.,  391.,  254.]),\n",
       " array([ 1.  ,  1.96,  2.92,  3.88,  4.84,  5.8 ,  6.76,  7.72,  8.68,\n",
       "         9.64, 10.6 , 11.56, 12.52, 13.48, 14.44, 15.4 , 16.36, 17.32,\n",
       "        18.28, 19.24, 20.2 , 21.16, 22.12, 23.08, 24.04, 25.  ]),\n",
       " <a list of 25 Patch objects>)"
      ]
     },
     "execution_count": 8,
     "metadata": {},
     "output_type": "execute_result"
    },
    {
     "data": {
      "image/png": "[encoded data removed]",
      "text/plain": [
       "<Figure size 432x288 with 1 Axes>"
      ]
     },
     "metadata": {
      "needs_background": "light"
     },
     "output_type": "display_data"
    }
   ],
   "source": [
    "import matplotlib.pyplot as plt\n",
    "%matplotlib inline\n",
    "plt.hist(doj['topicnumber'],bins=25)"
   ]
  },
  {
   "cell_type": "code",
   "execution_count": null,
   "metadata": {},
   "outputs": [],
   "source": [
    "doj.to_csv('topics.csv')"
   ]
  },
  {
   "cell_type": "markdown",
   "metadata": {},
   "source": [
    "### Assigning topic names and adding to dataframe for readability"
   ]
  },
  {
   "cell_type": "code",
   "execution_count": 9,
   "metadata": {},
   "outputs": [],
   "source": [
    "topicnames = {\n",
    "    1: 'Criminal Trials',\n",
    "    2: 'Taxes',\n",
    "    3: 'Benefits',\n",
    "    4: 'Discrimination',\n",
    "    5: 'Child Pornography',\n",
    "    6: 'Environment',\n",
    "    7: 'Terrorism',\n",
    "    8: 'Market Regulation',\n",
    "    9: 'Immigration',\n",
    "    10: 'Prisoners',\n",
    "    11: 'Civil Trials',\n",
    "    12: 'Accessibility',\n",
    "    13: 'Corruption',\n",
    "    14: 'Whistleblowers',\n",
    "    15: 'Drugs',\n",
    "    16: 'Fraud',\n",
    "    17: 'White Collar Crime',\n",
    "    18: 'Elections',\n",
    "    19: 'Consumer Issues',\n",
    "    20: 'Native Americans',\n",
    "    21: 'Real Estate',\n",
    "    22: 'Human Trafficking',\n",
    "    23: 'Veterans',\n",
    "    24: 'Maritime Issues/Ocean Pollution',\n",
    "    25: 'Offshore Accounts',\n",
    "}"
   ]
  },
  {
   "cell_type": "code",
   "execution_count": 10,
   "metadata": {},
   "outputs": [],
   "source": [
    "doj['topicname'] = None\n",
    "for i in doj.index:\n",
    "    doj.at[i,'topicname'] = topicnames[doj.at[i,'topicnumber']]"
   ]
  },
  {
   "cell_type": "code",
   "execution_count": null,
   "metadata": {},
   "outputs": [],
   "source": [
    "doj.head()"
   ]
  },
  {
   "cell_type": "code",
   "execution_count": 146,
   "metadata": {},
   "outputs": [],
   "source": [
    "with open(\"topics.pkl\", \"wb\") as f:\n",
    "    pickle.dump(doj, f)\n",
    "\n",
    "doj.to_csv('topics.csv')"
   ]
  },
  {
   "cell_type": "code",
   "execution_count": null,
   "metadata": {},
   "outputs": [],
   "source": []
  }
 ],
 "metadata": {
  "kernelspec": {
   "display_name": "Python 3",
   "language": "python",
   "name": "python3"
  },
  "language_info": {
   "codemirror_mode": {
    "name": "ipython",
    "version": 3
   },
   "file_extension": ".py",
   "mimetype": "text/x-python",
   "name": "python",
   "nbconvert_exporter": "python",
   "pygments_lexer": "ipython3",
   "version": "3.6.6"
  }
 },
 "nbformat": 4,
 "nbformat_minor": 2
}
